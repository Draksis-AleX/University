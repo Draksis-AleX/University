{
 "cells": [
  {
   "cell_type": "markdown",
   "metadata": {},
   "source": [
    "##### Sceneggiatura\n",
    "# Order 66"
   ]
  },
  {
   "cell_type": "markdown",
   "metadata": {},
   "source": [
    "---"
   ]
  },
  {
   "cell_type": "markdown",
   "metadata": {},
   "source": [
    "### Scena 1\n",
    "---"
   ]
  },
  {
   "cell_type": "markdown",
   "metadata": {},
   "source": [
    "***Descrizione:*** <br>\n",
    "Sfondo nero, entra la musica con un fade in. Risuonano potenti le parole \"execute Order 66\", pronunciate dall'imperatore Palpatine.\n",
    "- ***Oggetti in scena:*** Nessuno\n",
    "- ***Ambientazione:*** Nessuna\n",
    "- ***Effetti Audio:*** Execute Order 66 sound effect\n",
    "- ***Durata:*** 00.00 - 00.10"
   ]
  },
  {
   "cell_type": "markdown",
   "metadata": {},
   "source": [
    "### Scena 2\n",
    "---"
   ]
  },
  {
   "cell_type": "markdown",
   "metadata": {},
   "source": [
    "***Descrizione:*** <br>\n",
    "Una nave viaggia, attraverso la Galassia, per raggiungere Coruscant. E' la nave di Anakin Skywalker.\n",
    "- ***Protagonista della scena:*** Navicella spaziale\n",
    "- ***Ambientazione:*** Galassia con stelle e pianeti\n",
    "- ***Effetti Audio:*** Nessuno\n",
    "- ***Durata:*** 00.10 - 00.16"
   ]
  },
  {
   "cell_type": "markdown",
   "metadata": {},
   "source": [
    "### Scena 3\n",
    "---"
   ]
  },
  {
   "cell_type": "markdown",
   "metadata": {},
   "source": [
    "***Descrizione:*** <br>\n",
    "Viene mostrata Coruscant di notte in tutto il suo splendore con al centro il tempo Jedi. La telecamera inquadra prima la città dall'alto e poi stacca su un inquadratura ravvicinata sull'entrata del tempio Jedi, in modo da evidenziarne l'imponenza.\n",
    "- ***Protagonista della scena:*** Coruscant, Tempio Jedi\n",
    "- ***Ambientazione:*** Coruscant\n",
    "- ***Effetti Audio:*** Nessuno\n",
    "- ***Durata:*** 00.16 - 00.29"
   ]
  },
  {
   "cell_type": "markdown",
   "metadata": {},
   "source": [
    "### Scena 4\n",
    "---"
   ]
  },
  {
   "cell_type": "markdown",
   "metadata": {},
   "source": [
    "***Descrizione:*** <br>\n",
    "Anakin è atterrato ed è gia al di fuori della nave. Si incammina verso l'entrata del tempio.<br>\n",
    "Una volta vicino alla grande porta si ferma ed estrae la spada laser, la quale da blu diventa rossa.<br>\n",
    "Apertesi le porte Anakin entra nel tempio.\n",
    "- ***Protagonista della scena:*** Anakin\n",
    "- ***Ambientazione:*** Ingresso del Tempio Jedi (Coruscant)\n",
    "- ***Effetti Audio:*** Nessuno\n",
    "- ***Durata:*** 00.29 - 00.50"
   ]
  },
  {
   "cell_type": "markdown",
   "metadata": {},
   "source": [
    "### Scena 5\n",
    "---"
   ]
  },
  {
   "cell_type": "markdown",
   "metadata": {},
   "source": [
    "***Descrizione:*** <br>\n",
    "Anakin si trova all'interno della sala del consiglio Jedi, nella quale vi sono anche svariati apprendisti Jedi (bambini). Si susseguono vari shot che mostrano dei colpi di spada laser e i corpi dei deceduti.\n",
    "- ***Protagonista della scena:*** Anakin\n",
    "- ***Ambientazione:*** Sala del consiglio Jedi\n",
    "- ***Effetti Audio:*** Nessuno\n",
    "- ***Durata:*** 00.50 - 01.18"
   ]
  },
  {
   "cell_type": "markdown",
   "metadata": {},
   "source": [
    "### Scena 6\n",
    "---"
   ]
  },
  {
   "cell_type": "markdown",
   "metadata": {},
   "source": [
    "***Descrizione:*** <br>\n",
    "Fine del corto con credits su sfondo nero.\n",
    "- ***Protagonista della scena:*** Nessuno\n",
    "- ***Ambientazione:*** Nessuna\n",
    "- ***Effetti Audio:*** Nessuno\n",
    "- ***Durata:*** 01.18 - END"
   ]
  }
 ],
 "metadata": {
  "language_info": {
   "name": "python"
  }
 },
 "nbformat": 4,
 "nbformat_minor": 2
}
