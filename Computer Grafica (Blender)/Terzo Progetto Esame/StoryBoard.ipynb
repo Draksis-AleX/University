{
 "cells": [
  {
   "cell_type": "markdown",
   "metadata": {},
   "source": [
    "##### Storyboard\n",
    "# Order 66\n",
    "---"
   ]
  },
  {
   "cell_type": "markdown",
   "metadata": {},
   "source": [
    "### Shot 1.1 (Intro)\n",
    "---"
   ]
  },
  {
   "cell_type": "markdown",
   "metadata": {},
   "source": [
    "- ***ID:*** 1.1\n",
    "- ***Titolo:*** Intro.\n",
    "- ***Azione:*** Titolo introduttivo su sfondo nero; le scritte \"Execute\" ed \"Order 66\" appaiono a schermo a tempo con l'effetto audio\n",
    "- ***Suoni:*** Parte la soundtrack di base; con effetto riverbero si sentono le parole \"Execute Order 66\"\n",
    "- ***Durata:*** START - 00.10\n",
    "- ***Transizione:*** Transizione netta alla scena successiva, in accordo con il carattere della soundtrack\n",
    "- ***Note:*** Scritte alla Star Wars"
   ]
  },
  {
   "cell_type": "markdown",
   "metadata": {},
   "source": [
    "<div>\n",
    "<center><img src=\"img/SB_1.1.jpg\" width=\"500\"/></center>\n",
    "</div>"
   ]
  },
  {
   "cell_type": "markdown",
   "metadata": {},
   "source": [
    "### Shot 2.1 (Travelling to Coruscant)\n",
    "---"
   ]
  },
  {
   "cell_type": "markdown",
   "metadata": {},
   "source": [
    "- ***ID:*** 2.1\n",
    "- ***Titolo:*** Travelling to Coruscant\n",
    "- ***Ambientazione:*** Galassia\n",
    "- ***Azione:*** L'astronave, guidata da Anakin si dirige verso Coruscant attraverso la galassia\n",
    "- ***Camera:*** Fissa\n",
    "- ***Suoni:*** Soundtrack principale\n",
    "- ***Durata:*** 00.10 - 00.16\n",
    "- ***Transizione:*** Transizione cross-dissolve allo shot successivo\n",
    "- ***Note:*** "
   ]
  },
  {
   "cell_type": "markdown",
   "metadata": {},
   "source": [
    "<div>\n",
    "<center><img src=\"img/SB_2.1.jpg\" width=\"500\"/></center>\n",
    "</div>"
   ]
  },
  {
   "cell_type": "markdown",
   "metadata": {},
   "source": [
    "### Shot 3.1 (Coruscant Bird's-Eye View)\n",
    "---"
   ]
  },
  {
   "cell_type": "markdown",
   "metadata": {},
   "source": [
    "- ***ID:*** 3.1\n",
    "- ***Titolo:*** Coruscant Overview\n",
    "- ***Ambientazione:*** Coruscant (Esterno)\n",
    "- ***Azione:*** Viene mostrata Coruscant con al centro il tempio Jedi.\n",
    "- ***Camera:*** Dall'alto (bird's eye view).\n",
    "- ***Suoni:*** Soundtrack principale \n",
    "- ***Durata:*** 00.16 - 00.22\n",
    "- ***Transizione:*** Transizione netta allo shot successivo\n",
    "- ***Note:*** "
   ]
  },
  {
   "cell_type": "markdown",
   "metadata": {},
   "source": [
    "<div>\n",
    "<center><img src=\"img/SB_3.1.jpg\" width=\"500\"/></center>\n",
    "</div>"
   ]
  },
  {
   "cell_type": "markdown",
   "metadata": {},
   "source": [
    "### Shot 3.2 (Coruscant Close-Up View) \n",
    "---"
   ]
  },
  {
   "cell_type": "markdown",
   "metadata": {},
   "source": [
    "- ***ID:*** 3.2\n",
    "- ***Titolo:*** Coruscant Close-Up View\n",
    "- ***Ambientazione:*** Coruscant (Esterno)\n",
    "- ***Azione:*** Viene mostrato l'ingresso del tempio Jedi.\n",
    "- ***Camera:*** Ravvicinata (Close-Up)\n",
    "- ***Suoni:*** Soundtrack principale\n",
    "- ***Durata:*** 00.22 - 00.29\n",
    "- ***Transizione:*** Transizione cross-dissolve allo shot successivo\n",
    "- ***Note:*** "
   ]
  },
  {
   "cell_type": "markdown",
   "metadata": {},
   "source": [
    "<div>\n",
    "<center><img src=\"img/SB_3.2.jpg\" width=\"500\"/></center>\n",
    "</div>"
   ]
  },
  {
   "cell_type": "markdown",
   "metadata": {},
   "source": [
    "### Shot 4.1 (Anakin Walking)\n",
    "---"
   ]
  },
  {
   "cell_type": "markdown",
   "metadata": {},
   "source": [
    "- ***ID:*** 4.1\n",
    "- ***Titolo:*** Anakin Walking\n",
    "- ***Ambientazione:*** Ingresso del Tempio (Esterno)\n",
    "- ***Azione:*** Anakin cammina verso l'ingresso del tempio.\n",
    "- ***Camera:*** Frontale (Medium Long Shot)\n",
    "- ***Suoni:*** Soundtrack principale\n",
    "- ***Durata:*** 00.29 - 00.35\n",
    "- ***Transizione:*** Transizione netta allo shot successivo\n",
    "- ***Note:*** "
   ]
  },
  {
   "cell_type": "markdown",
   "metadata": {},
   "source": [
    "<div>\n",
    "<center><img src=\"img/SB_4.1.jpg\" width=\"500\"/></center>\n",
    "</div>"
   ]
  },
  {
   "cell_type": "markdown",
   "metadata": {},
   "source": [
    "### Shot 4.2 (Anakin Walking Close-Up)\n",
    "---"
   ]
  },
  {
   "cell_type": "markdown",
   "metadata": {},
   "source": [
    "- ***ID:*** 4.2\n",
    "- ***Titolo:*** Anakin Walking Close-Up\n",
    "- ***Ambientazione:*** Ingresso del Tempio (Esterno)\n",
    "- ***Azione:*** Anakin cammina verso l'ingresso del tempio.\n",
    "- ***Camera:*** Frontale (Medium Close-Up)\n",
    "- ***Suoni:*** Soundtrack principale\n",
    "- ***Durata:*** 00.35 - 00.38\n",
    "- ***Transizione:*** Transizione netta allo shot successivo\n",
    "- ***Note:*** "
   ]
  },
  {
   "cell_type": "markdown",
   "metadata": {},
   "source": [
    "<div>\n",
    "<center><img src=\"img/SB_4.2.jpg\" width=\"500\"/></center>\n",
    "</div>"
   ]
  },
  {
   "cell_type": "markdown",
   "metadata": {},
   "source": [
    "### Shot 4.3.1 (Anakin Stops Walking)\n",
    "---"
   ]
  },
  {
   "cell_type": "markdown",
   "metadata": {},
   "source": [
    "- ***ID:*** 4.3.1\n",
    "- ***Titolo:*** Anakin Stops Walking\n",
    "- ***Ambientazione:*** Ingresso del Tempio (Esterno)\n",
    "- ***Azione:*** Anakin cammina verso l'ingresso del tempio e si ferma.\n",
    "- ***Camera:*** Da dietro (Long Shot), zoom out\n",
    "- ***Suoni:*** Soundtrack principale\n",
    "- ***Durata:*** 00.38 - 00.41\n",
    "- ***Transizione:***\n",
    "- ***Note:*** "
   ]
  },
  {
   "cell_type": "markdown",
   "metadata": {},
   "source": [
    "<div>\n",
    "<center><img src=\"img/SB_4.3.jpg\" width=\"500\"/></center>\n",
    "</div>"
   ]
  },
  {
   "cell_type": "markdown",
   "metadata": {},
   "source": [
    "### Shot 4.3.2 (Blue to Red)\n",
    "---"
   ]
  },
  {
   "cell_type": "markdown",
   "metadata": {},
   "source": [
    "- ***ID:*** 4.3.2\n",
    "- ***Titolo:*** Blue to Red\n",
    "- ***Ambientazione:*** Ingresso del Tempio (Esterno)\n",
    "- ***Azione:*** Anakin estrae la spada laser, la quale da blu diventa rossa. Intanto la porta del tempio si apre.\n",
    "- ***Camera:*** Da dietro (Long Shot), zoom in\n",
    "- ***Suoni:*** Soundtrack principale\n",
    "- ***Durata:*** 00.41 - 00.49\n",
    "- ***Transizione:***\n",
    "- ***Note:*** "
   ]
  },
  {
   "cell_type": "markdown",
   "metadata": {},
   "source": [
    "<div>\n",
    "<center><img src=\"img/SB_4.4.jpg\" width=\"500\"/></center>\n",
    "</div>"
   ]
  },
  {
   "cell_type": "markdown",
   "metadata": {},
   "source": [
    "### Shot 4.3.3 (Entering the Temple)\n",
    "---"
   ]
  },
  {
   "cell_type": "markdown",
   "metadata": {},
   "source": [
    "- ***ID:*** 4.3.3\n",
    "- ***Titolo:*** Entering the Temple\n",
    "- ***Ambientazione:*** Ingresso del Tempio (Esterno)\n",
    "- ***Azione:*** Anakin non si muove. La camera entra nel tempio, portando lo spettatore alla prossima scena.\n",
    "- ***Camera:*** Si muove velocemente ed entra nel tempio.\n",
    "- ***Suoni:*** Soundtrack principale\n",
    "- ***Durata:*** 00.49 - 00.51\n",
    "- ***Transizione:*** Transizione su sfondo nero cross-dissolve verso la prossima scena.\n",
    "- ***Note:*** "
   ]
  },
  {
   "cell_type": "markdown",
   "metadata": {},
   "source": [
    "<div>\n",
    "<center><img src=\"img/SB_4.5.jpg\" width=\"500\"/></center>\n",
    "</div>"
   ]
  },
  {
   "cell_type": "markdown",
   "metadata": {},
   "source": [
    "### Shot 5.1.1 (First Saber Slash)\n",
    "---"
   ]
  },
  {
   "cell_type": "markdown",
   "metadata": {},
   "source": [
    "- ***ID:*** 5.1.1\n",
    "- ***Titolo:*** First Saber Slash\n",
    "- ***Ambientazione:*** Sala del Consiglio Jedi (Interno)\n",
    "- ***Azione:*** Anakin colpisce un apprendista Jedi con il primo fendente.\n",
    "- ***Camera:*** Alle spalle di Anakin (Long-Shot)\n",
    "- ***Suoni:*** Soundtrack principale\n",
    "- ***Durata:*** 00.51 - 00.56\n",
    "- ***Transizione:***\n",
    "- ***Note:*** "
   ]
  },
  {
   "cell_type": "markdown",
   "metadata": {},
   "source": [
    "<div>\n",
    "<center><img src=\"img/SB_5.1.jpg\" width=\"500\"/></center>\n",
    "</div>"
   ]
  },
  {
   "cell_type": "markdown",
   "metadata": {},
   "source": [
    "### Shot 5.1.2 (Second Saber Slash)\n",
    "---"
   ]
  },
  {
   "cell_type": "markdown",
   "metadata": {},
   "source": [
    "- ***ID:*** 5.1.1\n",
    "- ***Titolo:*** Second Saber Slash\n",
    "- ***Ambientazione:*** Sala del Consiglio Jedi (Interno)\n",
    "- ***Azione:*** Anakin colpisce un apprendista Jedi con il secondo fendente.\n",
    "- ***Camera:*** Alle spalle di Anakin (Medium Long-Shot)\n",
    "- ***Suoni:*** Soundtrack principale\n",
    "- ***Durata:*** 00.56 - 01.02\n",
    "- ***Transizione:***\n",
    "- ***Note:*** "
   ]
  },
  {
   "cell_type": "markdown",
   "metadata": {},
   "source": [
    "<div>\n",
    "<center><img src=\"img/SB_5.2.jpg\" width=\"500\"/></center>\n",
    "</div>"
   ]
  },
  {
   "cell_type": "markdown",
   "metadata": {},
   "source": [
    "### Shot 5.1.3 (Saber Thrust)\n",
    "---"
   ]
  },
  {
   "cell_type": "markdown",
   "metadata": {},
   "source": [
    "- ***ID:*** 5.1.3\n",
    "- ***Titolo:*** Saber Thrust\n",
    "- ***Ambientazione:*** Sala del Consiglio Jedi (Interno)\n",
    "- ***Azione:*** Anakin finisce l'apprendista Jedi con un affondo. L'apprendista si accascia al suolo.\n",
    "- ***Camera:*** Alle spalle di Anakin (Mid Shot). La camera segue la caduta dell'apprendista.\n",
    "- ***Suoni:*** Soundtrack principale\n",
    "- ***Durata:*** 01.02 - 01.11\n",
    "- ***Transizione:***\n",
    "- ***Note:*** "
   ]
  },
  {
   "cell_type": "markdown",
   "metadata": {},
   "source": [
    "<div>\n",
    "<center><img src=\"img/SB_5.3.jpg\" width=\"500\"/></center>\n",
    "</div>"
   ]
  },
  {
   "cell_type": "markdown",
   "metadata": {},
   "source": [
    "### Shot 5.1.4 (Anakin Turns)\n",
    "---"
   ]
  },
  {
   "cell_type": "markdown",
   "metadata": {},
   "source": [
    "- ***ID:*** 5.1.4\n",
    "- ***Titolo:*** Anakin Turns\n",
    "- ***Ambientazione:*** Sala del Consiglio Jedi (Interno)\n",
    "- ***Azione:*** Anakin si gira e infine guarda con la coda dell'occhio il corpo senza vita dell'apprendista.\n",
    "- ***Camera:*** Frontale (Mid Shot). La camera effettua uno zoom sul volto di Anakin. Esegue infine uno zoom molto veloce a cui segue una netta transizione.\n",
    "- ***Suoni:*** Soundtrack principale\n",
    "- ***Durata:*** 01.11 - 01.18\n",
    "- ***Transizione:*** Netta\n",
    "- ***Note:*** "
   ]
  },
  {
   "cell_type": "markdown",
   "metadata": {},
   "source": [
    "<div>\n",
    "<center><img src=\"img/SB_5.4.jpg\" width=\"500\"/></center>\n",
    "</div>"
   ]
  },
  {
   "cell_type": "markdown",
   "metadata": {},
   "source": [
    "### Shot 6.1 (Credits)\n",
    "---"
   ]
  },
  {
   "cell_type": "markdown",
   "metadata": {},
   "source": [
    "- ***ID:*** 6.1\n",
    "- ***Titolo:*** Credits\n",
    "- ***Azione:*** Crediti finali scorrono su sfondo nero.\n",
    "- ***Camera:*** \n",
    "- ***Suoni:*** Soundtrack principale, fade-out\n",
    "- ***Durata:*** 01.18 - END\n",
    "- ***Transizione:*** \n",
    "- ***Note:*** Scritte alla Star Wars"
   ]
  },
  {
   "cell_type": "markdown",
   "metadata": {},
   "source": [
    "<div>\n",
    "<center><img src=\"img/SB_6.1.jpg\" width=\"500\"/></center>\n",
    "</div>"
   ]
  },
  {
   "cell_type": "markdown",
   "metadata": {},
   "source": [
    "---\n",
    "Total Shots Number: 14"
   ]
  }
 ],
 "metadata": {
  "language_info": {
   "name": "python"
  }
 },
 "nbformat": 4,
 "nbformat_minor": 2
}
