{
 "cells": [
  {
   "cell_type": "markdown",
   "metadata": {},
   "source": [
    "### Idea Terzo Progetto\n",
    "# Order 66"
   ]
  },
  {
   "cell_type": "markdown",
   "metadata": {},
   "source": [
    "---"
   ]
  },
  {
   "cell_type": "markdown",
   "metadata": {},
   "source": [
    "L'idea è quella di ricreare, re-interpretare e riassumere in un breve filmato l'esecuzione del famoso ordine 66 della saga \"Star Wars\".\n",
    "\n",
    "Esso è un ordine segreto programmato nei cloni soldati della Repubblica Galattica, che li obbliga ad uccidere tutti i Jedi, considerandoli traditori della Repubblica. L'attuazione di questo ordine segna la quasi totale distruzione dell'Ordine Jedi.\n",
    "\n",
    "Nello specifico nel corto voglio rappresentare il terribile sterminio degli allievi Jedi nel tempio Jedi di Coruscant ad opera di Anakin Skywalker."
   ]
  },
  {
   "cell_type": "markdown",
   "metadata": {},
   "source": [
    "_Di seguito qualche immagine di riferimento:_"
   ]
  },
  {
   "cell_type": "markdown",
   "metadata": {},
   "source": [
    "<div>\n",
    "<center><img src=\"img/Order66_1.jpg\" width=\"500\"/></center>\n",
    "</div>"
   ]
  },
  {
   "cell_type": "markdown",
   "metadata": {},
   "source": [
    "<div>\n",
    "<center><img src=\"img/Order66_2.webp\" width=\"500\"/></center>\n",
    "</div>"
   ]
  }
 ],
 "metadata": {
  "language_info": {
   "name": "python"
  }
 },
 "nbformat": 4,
 "nbformat_minor": 2
}
