{
 "cells": [
  {
   "cell_type": "markdown",
   "metadata": {},
   "source": [
    "# Laboratorio 2 Social Media (Web Scraping)"
   ]
  },
  {
   "cell_type": "markdown",
   "metadata": {},
   "source": [
    "Iniziamo importando la pagina HTML tramite una URL request"
   ]
  },
  {
   "cell_type": "code",
   "execution_count": 90,
   "metadata": {},
   "outputs": [
    {
     "name": "stdout",
     "output_type": "stream",
     "text": [
      "b'<!DOCTYPE HTML PUBLIC \"-//W3C//DTD HTML 4.01 Transitional//EN\"\\n            \"http://www.w3.org/TR/html4/loose.dtd\">\\n\\n<html lang=\"it\" class=\"no-js\">\\n<head>\\n\\n<link rel=\"preconnect\" href=\"https://fonts.static-thomann.de\" crossorigin>\\n<link href=\"https://fonts.static-thomann.de/pics/fonts/open-sans.css?v=1\" rel=\"stylesheet\">\\n\\n<meta name=\"charset\" content=\"utf-8\">\\n<meta http-equiv=\"Content-Type\" content=\"text/html; charset=utf-8\">\\n<meta http-equiv=\"X-UA-Compatible\" content=\"IE=edge\">\\n<title>Modelli Double Cut &ndash; Thomann Italia</title>\\n\\n<meta name=\"description\" content=\"Pi&ugrave; di {numberOfArticlesInCategory} a partire da {minPrice} in stock - Sul nostro sito trovi sempre lo strumento adatto per te. Spese di spedizione gratuite, 30 giorni &quot;soddisfatto o rimborsato&quot; e 3 anni di garanzia. \\nThomann - Il negozio di musica pi&ugrave; grande d\\'Europa\">\\n\\n<meta name=\"Language\" content=\"it-IT\">\\n<meta name=\"Content-Language\" content=\"it-IT\">\\n<meta name=\"viewport\" content=\"width=device'\n"
     ]
    }
   ],
   "source": [
    "from urllib.request import urlopen as uRequest\n",
    "uClient = uRequest(\"https://www.thomann.de/it/modelli_sg.html?ls=25&pg=1\")\n",
    "page_html = uClient.read()\n",
    "print(page_html[:1000])"
   ]
  },
  {
   "cell_type": "markdown",
   "metadata": {},
   "source": [
    "Importo beautiful soup per far diventare la pagina un oggetto BeautifulSoup"
   ]
  },
  {
   "cell_type": "code",
   "execution_count": 91,
   "metadata": {},
   "outputs": [
    {
     "name": "stdout",
     "output_type": "stream",
     "text": [
      "<class 'bs4.BeautifulSoup'>\n"
     ]
    }
   ],
   "source": [
    "from bs4 import BeautifulSoup as soup\n",
    "page_soup = soup(page_html)\n",
    "print(type(page_soup))"
   ]
  },
  {
   "cell_type": "markdown",
   "metadata": {},
   "source": [
    "Cerco tutti i div della classe \"fx-product-list-entry\". Stamp il tipo di tali oggetti e quanti sono"
   ]
  },
  {
   "cell_type": "code",
   "execution_count": 92,
   "metadata": {},
   "outputs": [
    {
     "name": "stdout",
     "output_type": "stream",
     "text": [
      "<class 'bs4.element.ResultSet'> 25\n"
     ]
    }
   ],
   "source": [
    "containers = page_soup.findAll('div',{'class':'fx-product-list-entry'})\n",
    "print(type(containers), len(containers))"
   ]
  },
  {
   "cell_type": "markdown",
   "metadata": {},
   "source": [
    "Visualizzo il contenuto del primo container"
   ]
  },
  {
   "cell_type": "code",
   "execution_count": 93,
   "metadata": {},
   "outputs": [
    {
     "name": "stdout",
     "output_type": "stream",
     "text": [
      "<div class=\"fx-product-list-entry\">\n",
      "<div class=\"product\">\n",
      "<a class=\"product__image\" href=\"harley_benton_dc_600_vi_vintage_series.htm?listPosition=0&amp;type=category\">\n",
      "<picture class=\"fx-picture\">\n",
      "<source data-srcset=\"https://thumbs.static-thomann.de/thumb//thumb220x220/pics/prod/362649.webp\" srcset=\"\" type=\"image/webp\"> <source data-srcset=\"https://thumbs.static-thomann.de/thumb//thumb220x220/pics/prod/362649.jpg\" srcset=\"\"> <img alt=\"Harley Benton DC-600 VI Vintage Series\" class=\"fx-image responsive-image product-image lazyload loaded\" data-src=\"\" height=\" 220\" src=\"https://images.static-thomann.de/pics/images/misc/placeholder.svg\" width=\" 220\"/>\n",
      "</source></source></picture>\n",
      "</a>\n",
      "<a class=\"product__content\" href=\"harley_benton_dc_600_vi_vintage_series.htm?listPosition=0&amp;type=category\">\n",
      "<div class=\"product__details\">\n",
      "<div class=\"product__title fx-text\">\n",
      "<span class=\"title__manufacturer\">Harley Benton</span>\n",
      "<span class=\"title__name\">DC-600 VI Vintage Series</span>\n",
      "</div>\n",
      "<div class=\"product__meta-container\">\n",
      "<div class=\"product__meta-line\">\n",
      "<div class=\"product__rating-stars\">\n",
      "<div class=\"fx-rating-stars\">\n",
      "<div class=\"fx-rating-stars__stars\">\n",
      "<svg class=\"fx-icon fx-icon-star-fill fx-rating-stars__icon product__rating-star\">\n",
      "<use xlink:href=\"/static/icons/fxicons.svg?v=9952#star-fill\"></use>\n",
      "</svg> <svg class=\"fx-icon fx-icon-star-fill fx-rating-stars__icon product__rating-star\">\n",
      "<use xlink:href=\"/static/icons/fxicons.svg?v=9952#star-fill\"></use>\n",
      "</svg> <svg class=\"fx-icon fx-icon-star-fill fx-rating-stars__icon product__rating-star\">\n",
      "<use xlink:href=\"/static/icons/fxicons.svg?v=9952#star-fill\"></use>\n",
      "</svg> <svg class=\"fx-icon fx-icon-star-fill fx-rating-stars__icon product__rating-star\">\n",
      "<use xlink:href=\"/static/icons/fxicons.svg?v=9952#star-fill\"></use>\n",
      "</svg> <svg class=\"fx-icon fx-icon-star-fill fx-rating-stars__icon product__rating-star\">\n",
      "<use xlink:href=\"/static/icons/fxicons.svg?v=9952#star-fill\"></use>\n",
      "</svg>\n",
      "<div class=\"fx-rating-stars__filler\" style=\"width: 90%\">\n",
      "<svg class=\"fx-icon fx-icon-star-fill fx-rating-stars__filler-icon product__rating-star\">\n",
      "<use xlink:href=\"/static/icons/fxicons.svg?v=9952#star-fill\"></use>\n",
      "</svg> <svg class=\"fx-icon fx-icon-star-fill fx-rating-stars__filler-icon product__rating-star\">\n",
      "<use xlink:href=\"/static/icons/fxicons.svg?v=9952#star-fill\"></use>\n",
      "</svg> <svg class=\"fx-icon fx-icon-star-fill fx-rating-stars__filler-icon product__rating-star\">\n",
      "<use xlink:href=\"/static/icons/fxicons.svg?v=9952#star-fill\"></use>\n",
      "</svg> <svg class=\"fx-icon fx-icon-star-fill fx-rating-stars__filler-icon product__rating-star\">\n",
      "<use xlink:href=\"/static/icons/fxicons.svg?v=9952#star-fill\"></use>\n",
      "</svg> <svg class=\"fx-icon fx-icon-star-fill fx-rating-stars__filler-icon product__rating-star\">\n",
      "<use xlink:href=\"/static/icons/fxicons.svg?v=9952#star-fill\"></use>\n",
      "</svg> </div>\n",
      "</div>\n",
      "<div class=\"fx-rating-stars__description\">130</div>\n",
      "</div>\n",
      "</div>\n",
      "</div>\n",
      "</div>\n",
      "<div class=\"product__description\">\n",
      "<ul class=\"fx-list\">\n",
      "<li class=\"product__description-item fx-list__item fx-list__item--circle\">Body: Mahogany (Sapele / Entandrophragma cylindricum)</li>\n",
      "<li class=\"product__description-item fx-list__item fx-list__item--circle\">Neck: Mahogany (Sapele / Entandrophragma cylindricum)</li>\n",
      "<li class=\"product__description-item fx-list__item fx-list__item--circle\">Neck attachment: Set-in</li>\n",
      "</ul>\n",
      "</div>\n",
      "<div class=\"product__availability fx-availability fx-availability--in-stock\">\n",
      "                        disponibile\n",
      "                    </div>\n",
      "</div>\n",
      "<div class=\"product__price\">\n",
      "<div class=\"fx-price-group product__price-group\">\n",
      "<span class=\"fx-typography-price-primary fx-price-group__primary product__price-primary\">            € 211\n",
      "    </span>\n",
      "</div>\n",
      "</div> </a>\n",
      "<div class=\"product__actions\">\n",
      "<div class=\"action__compare js-action__compare\" data-number=\"362649\" data-reference-tracking=\"\">\n",
      "<svg class=\"fx-icon fx-icon-compare compare-icon\">\n",
      "<use xlink:href=\"/static/icons/fxicons.svg?v=9952#compare\"></use>\n",
      "</svg> </div>\n",
      "<div class=\"action__wishlist js-action__wishlist\" data-caid=\"\" data-is-on-wishlist=\"\" data-number=\"362649\" data-reference-tracking=\"\" data-wishlist-entry-id=\"\" data-wishlist-url=\"\">\n",
      "<svg class=\"fx-icon fx-icon-heart wishlist-icon fx-size--md-md-lg\">\n",
      "<use xlink:href=\"/static/icons/fxicons.svg?v=9952#heart\"></use>\n",
      "</svg> <svg class=\"fx-icon fx-icon-heart-filled wishlist-icon fx-size--md-md-lg fx-icon--active fx-icon--hidden\">\n",
      "<use xlink:href=\"/static/icons/fxicons.svg?v=9952#heart-filled\"></use>\n",
      "</svg> </div>\n",
      "<div class=\"action__basket js-action__basket\" data-is-download=\"\" data-is-voucher=\"\" data-number=\"362649\" data-reference-tracking=\"\">\n",
      "<form action=\"\" class=\"basket-form\" method=\"post\">\n",
      "<input name=\"ar\" type=\"hidden\" value=\"362649\"/>\n",
      "<button class=\"basket-button\" type=\"submit\">\n",
      "<svg class=\"fx-icon fx-icon-cart basket-icon\">\n",
      "<use xlink:href=\"/static/icons/fxicons.svg?v=9952#cart\"></use>\n",
      "</svg> </button>\n",
      "</form>\n",
      "</div>\n",
      "</div>\n",
      "</div>\n",
      "</div>\n"
     ]
    }
   ],
   "source": [
    "container=containers[0]\n",
    "print(container)"
   ]
  },
  {
   "cell_type": "markdown",
   "metadata": {},
   "source": [
    "### Estraggo il Manufacturer dal primo container"
   ]
  },
  {
   "cell_type": "code",
   "execution_count": 166,
   "metadata": {},
   "outputs": [
    {
     "ename": "AttributeError",
     "evalue": "ResultSet object has no attribute 'text'. You're probably treating a list of elements like a single element. Did you call find_all() when you meant to call find()?",
     "output_type": "error",
     "traceback": [
      "\u001b[0;31m---------------------------------------------------------------------------\u001b[0m",
      "\u001b[0;31mAttributeError\u001b[0m                            Traceback (most recent call last)",
      "\u001b[1;32m/Users/draksis/Library/CloudStorage/OneDrive-UniversitàdegliStudidiCatania/Università/SocialMedia/Lab2WebScraping/Lab2.ipynb Cella 11\u001b[0m in \u001b[0;36m<cell line: 1>\u001b[0;34m()\u001b[0m\n\u001b[0;32m----> <a href='vscode-notebook-cell:/Users/draksis/Library/CloudStorage/OneDrive-Universit%C3%A0degliStudidiCatania/Universit%C3%A0/SocialMedia/Lab2WebScraping/Lab2.ipynb#X13sZmlsZQ%3D%3D?line=0'>1</a>\u001b[0m manufacturer \u001b[39m=\u001b[39m container\u001b[39m.\u001b[39;49mfindAll(\u001b[39m'\u001b[39;49m\u001b[39mspan\u001b[39;49m\u001b[39m'\u001b[39;49m,{\u001b[39m'\u001b[39;49m\u001b[39mclass\u001b[39;49m\u001b[39m'\u001b[39;49m:\u001b[39m'\u001b[39;49m\u001b[39mtitle__manufacturer\u001b[39;49m\u001b[39m'\u001b[39;49m})\u001b[39m.\u001b[39;49mtext\n\u001b[1;32m      <a href='vscode-notebook-cell:/Users/draksis/Library/CloudStorage/OneDrive-Universit%C3%A0degliStudidiCatania/Universit%C3%A0/SocialMedia/Lab2WebScraping/Lab2.ipynb#X13sZmlsZQ%3D%3D?line=1'>2</a>\u001b[0m \u001b[39mprint\u001b[39m(manufacturer)\n",
      "File \u001b[0;32m~/opt/anaconda3/lib/python3.9/site-packages/bs4/element.py:2289\u001b[0m, in \u001b[0;36mResultSet.__getattr__\u001b[0;34m(self, key)\u001b[0m\n\u001b[1;32m   2287\u001b[0m \u001b[39mdef\u001b[39;00m \u001b[39m__getattr__\u001b[39m(\u001b[39mself\u001b[39m, key):\n\u001b[1;32m   2288\u001b[0m     \u001b[39m\"\"\"Raise a helpful exception to explain a common code fix.\"\"\"\u001b[39;00m\n\u001b[0;32m-> 2289\u001b[0m     \u001b[39mraise\u001b[39;00m \u001b[39mAttributeError\u001b[39;00m(\n\u001b[1;32m   2290\u001b[0m         \u001b[39m\"\u001b[39m\u001b[39mResultSet object has no attribute \u001b[39m\u001b[39m'\u001b[39m\u001b[39m%s\u001b[39;00m\u001b[39m'\u001b[39m\u001b[39m. You\u001b[39m\u001b[39m'\u001b[39m\u001b[39mre probably treating a list of elements like a single element. Did you call find_all() when you meant to call find()?\u001b[39m\u001b[39m\"\u001b[39m \u001b[39m%\u001b[39m key\n\u001b[1;32m   2291\u001b[0m     )\n",
      "\u001b[0;31mAttributeError\u001b[0m: ResultSet object has no attribute 'text'. You're probably treating a list of elements like a single element. Did you call find_all() when you meant to call find()?"
     ]
    }
   ],
   "source": [
    "manufacturer = container.findAll('span',{'class':'title__manufacturer'})[0].text\n",
    "print(manufacturer)"
   ]
  },
  {
   "cell_type": "markdown",
   "metadata": {},
   "source": [
    "### Estraggo il Modello dal primo container"
   ]
  },
  {
   "cell_type": "code",
   "execution_count": 95,
   "metadata": {},
   "outputs": [
    {
     "name": "stdout",
     "output_type": "stream",
     "text": [
      "DC-600 VI Vintage Series\n"
     ]
    }
   ],
   "source": [
    "model = container.findAll('span',{'class':'title__name'})[0].text\n",
    "print(model)"
   ]
  },
  {
   "cell_type": "markdown",
   "metadata": {},
   "source": [
    "### Estraggo l'immagine dal primo container"
   ]
  },
  {
   "cell_type": "code",
   "execution_count": 96,
   "metadata": {},
   "outputs": [
    {
     "data": {
      "text/plain": [
       "<a class=\"product__image\" href=\"harley_benton_dc_600_vi_vintage_series.htm?listPosition=0&amp;type=category\">\n",
       "<picture class=\"fx-picture\">\n",
       "<source data-srcset=\"https://thumbs.static-thomann.de/thumb//thumb220x220/pics/prod/362649.webp\" srcset=\"\" type=\"image/webp\"> <source data-srcset=\"https://thumbs.static-thomann.de/thumb//thumb220x220/pics/prod/362649.jpg\" srcset=\"\"> <img alt=\"Harley Benton DC-600 VI Vintage Series\" class=\"fx-image responsive-image product-image lazyload loaded\" data-src=\"\" height=\" 220\" src=\"https://images.static-thomann.de/pics/images/misc/placeholder.svg\" width=\" 220\"/>\n",
       "</source></source></picture>\n",
       "</a>"
      ]
     },
     "execution_count": 96,
     "metadata": {},
     "output_type": "execute_result"
    }
   ],
   "source": [
    "container.findAll('a',{'class':'product__image'})[0]"
   ]
  },
  {
   "cell_type": "code",
   "execution_count": 97,
   "metadata": {},
   "outputs": [
    {
     "name": "stdout",
     "output_type": "stream",
     "text": [
      "https://thumbs.static-thomann.de/thumb//thumb220x220/pics/prod/362649.jpg\n"
     ]
    }
   ],
   "source": [
    "img_url = container.findAll('a',{'class':'product__image'})[0].picture.source.source['data-srcset']\n",
    "print(img_url)"
   ]
  },
  {
   "cell_type": "markdown",
   "metadata": {},
   "source": [
    "Cerco l'URL della pagina del singolo prodotto in modo da prendere l'immagine in alta risoluzione"
   ]
  },
  {
   "cell_type": "code",
   "execution_count": 148,
   "metadata": {},
   "outputs": [
    {
     "name": "stdout",
     "output_type": "stream",
     "text": [
      "https://www.thomann.de/it/harley_benton_dc_600_vi_vintage_series.htm?listPosition=0&type=category\n"
     ]
    }
   ],
   "source": [
    "img_url_hr = \"https://www.thomann.de/it/\" + container.findAll('a',{'class':'product__image'})[0][\"href\"]\n",
    "print(img_url_hr)"
   ]
  },
  {
   "cell_type": "code",
   "execution_count": 155,
   "metadata": {},
   "outputs": [
    {
     "name": "stdout",
     "output_type": "stream",
     "text": [
      "https://th.static-thomann.de/thumb/padthumb600x600/pics/bdb/362649/14683331_800.jpg\n"
     ]
    }
   ],
   "source": [
    "uClinet2 = uRequest(img_url_hr)\n",
    "product_html_page = uClinet2.read()\n",
    "p_page_soup = soup(product_html_page)\n",
    "hr_img = p_page_soup.find_all('img', {'class' : 'spotlight__item-image'})[0]['src']"
   ]
  },
  {
   "cell_type": "code",
   "execution_count": 157,
   "metadata": {},
   "outputs": [],
   "source": [
    "def getHighResImg():\n",
    "    img_url = container.findAll('a',{'class':'product__image'})[0].picture.source.source['data-srcset']\n",
    "    img_url_hr = \"https://www.thomann.de/it/\" + container.findAll('a',{'class':'product__image'})[0][\"href\"]\n",
    "    uClinet2 = uRequest(img_url_hr)\n",
    "    product_html_page = uClinet2.read()\n",
    "    p_page_soup = soup(product_html_page)\n",
    "    hr_img = p_page_soup.find_all('img', {'class' : 'spotlight__item-image'})[0]['src']\n",
    "    return hr_img\n",
    "    "
   ]
  },
  {
   "cell_type": "markdown",
   "metadata": {},
   "source": [
    "Visualizzo l'immagine"
   ]
  },
  {
   "cell_type": "code",
   "execution_count": 98,
   "metadata": {},
   "outputs": [
    {
     "data": {
      "image/jpeg": "[encoded data removed]",
      "text/plain": [
       "<IPython.core.display.Image object>"
      ]
     },
     "execution_count": 98,
     "metadata": {},
     "output_type": "execute_result"
    }
   ],
   "source": [
    "import IPython\n",
    "IPython.display.Image(img_url)"
   ]
  },
  {
   "cell_type": "markdown",
   "metadata": {},
   "source": [
    "### Estraggo il prezzo"
   ]
  },
  {
   "cell_type": "code",
   "execution_count": 99,
   "metadata": {},
   "outputs": [
    {
     "name": "stdout",
     "output_type": "stream",
     "text": [
      "            € 211\n",
      "    \n"
     ]
    }
   ],
   "source": [
    "price = container.findAll('span',{'class':'product__price-primary'})[0].text\n",
    "print(price)"
   ]
  },
  {
   "cell_type": "markdown",
   "metadata": {},
   "source": [
    "Converto la stringa del prezzo in un numero"
   ]
  },
  {
   "cell_type": "code",
   "execution_count": 100,
   "metadata": {},
   "outputs": [
    {
     "name": "stdout",
     "output_type": "stream",
     "text": [
      "211.0\n"
     ]
    }
   ],
   "source": [
    "import re\n",
    "price = float(re.search(\"[0-9]+,?[0-9]*\",price).group())\n",
    "print(price)"
   ]
  },
  {
   "cell_type": "markdown",
   "metadata": {},
   "source": [
    "### Estraggo numero di recensioni e disponibilità"
   ]
  },
  {
   "cell_type": "code",
   "execution_count": 101,
   "metadata": {},
   "outputs": [
    {
     "name": "stdout",
     "output_type": "stream",
     "text": [
      "130 disponibile\n"
     ]
    }
   ],
   "source": [
    "review_count = int(container.findAll('div',{'class':'fx-rating-stars__description'})[0].text)\n",
    "availability = container.findAll('div',{'class':'product__availability'})[0].text.strip()\n",
    "print(review_count, availability)"
   ]
  },
  {
   "cell_type": "markdown",
   "metadata": {},
   "source": [
    "### Estraggo il rating"
   ]
  },
  {
   "cell_type": "code",
   "execution_count": 102,
   "metadata": {},
   "outputs": [
    {
     "data": {
      "text/plain": [
       "[<div class=\"fx-rating-stars__filler\" style=\"width: 90%\">\n",
       " <svg class=\"fx-icon fx-icon-star-fill fx-rating-stars__filler-icon product__rating-star\">\n",
       " <use xlink:href=\"/static/icons/fxicons.svg?v=9952#star-fill\"></use>\n",
       " </svg> <svg class=\"fx-icon fx-icon-star-fill fx-rating-stars__filler-icon product__rating-star\">\n",
       " <use xlink:href=\"/static/icons/fxicons.svg?v=9952#star-fill\"></use>\n",
       " </svg> <svg class=\"fx-icon fx-icon-star-fill fx-rating-stars__filler-icon product__rating-star\">\n",
       " <use xlink:href=\"/static/icons/fxicons.svg?v=9952#star-fill\"></use>\n",
       " </svg> <svg class=\"fx-icon fx-icon-star-fill fx-rating-stars__filler-icon product__rating-star\">\n",
       " <use xlink:href=\"/static/icons/fxicons.svg?v=9952#star-fill\"></use>\n",
       " </svg> <svg class=\"fx-icon fx-icon-star-fill fx-rating-stars__filler-icon product__rating-star\">\n",
       " <use xlink:href=\"/static/icons/fxicons.svg?v=9952#star-fill\"></use>\n",
       " </svg> </div>]"
      ]
     },
     "execution_count": 102,
     "metadata": {},
     "output_type": "execute_result"
    }
   ],
   "source": [
    "container.findAll('div',{'class':'fx-rating-stars__filler'})"
   ]
  },
  {
   "cell_type": "code",
   "execution_count": 103,
   "metadata": {},
   "outputs": [
    {
     "name": "stdout",
     "output_type": "stream",
     "text": [
      "width: 90%\n"
     ]
    }
   ],
   "source": [
    "rating = container.findAll('div',{'class':'fx-rating-stars__filler'})[0]['style']\n",
    "print(rating)"
   ]
  },
  {
   "cell_type": "markdown",
   "metadata": {},
   "source": [
    "Convertiamo in numero tale stringa"
   ]
  },
  {
   "cell_type": "code",
   "execution_count": 104,
   "metadata": {},
   "outputs": [
    {
     "name": "stdout",
     "output_type": "stream",
     "text": [
      "90.0\n"
     ]
    }
   ],
   "source": [
    "rating = float(rating.replace('width: ','').replace('%',''))\n",
    "print(rating)"
   ]
  },
  {
   "cell_type": "markdown",
   "metadata": {},
   "source": [
    "## Automatizziamo questo processo per tutti i container nella pagina"
   ]
  },
  {
   "cell_type": "code",
   "execution_count": 158,
   "metadata": {},
   "outputs": [],
   "source": [
    "def scrape_page(page_url, _records = None):\n",
    "    if _records is None:\n",
    "        _records = []\n",
    "    page_html=uRequest(page_url).read()\n",
    "    page_soup=soup(page_html)\n",
    "    containers=page_soup.findAll('div',{'class':'fx-product-list-entry'})\n",
    "    for container in containers:\n",
    "        manufacturer = container.findAll('span',{'class':'title__manufacturer'})[0].text\n",
    "        model = container.findAll('span',{'class':'title__name'})[0].text\n",
    "        #img_url = container.findAll('a',{'class':'product__image'})[0].picture.source.source['data-srcset']\t\n",
    "        img_url = getHighResImg()\n",
    "        price = container.findAll('span',{'class':'product__price-primary'})[0].text\n",
    "        price = float(price.replace('€','').replace(',','.'))\n",
    "        try:\n",
    "            review_count = int(container.findAll('div',{'class':'fx-rating-stars__description'})[0].text)\n",
    "        except:\n",
    "            review_count = 0\n",
    "        availability = container.findAll('div',{'class':'product__availability'})[0].text.strip()\n",
    "        try:\n",
    "            rating = container.findAll('div',{'class':'fx-rating-stars__filler'})[0]['style']\n",
    "            rating = float(re.search('[0-9]+(\\.[0-9]+)?', rating).group())\n",
    "        except:\n",
    "            rating=0\n",
    "        _records.append([manufacturer, model, img_url, price, review_count, availability, rating])\n",
    "    return _records"
   ]
  },
  {
   "cell_type": "markdown",
   "metadata": {},
   "source": [
    "Eseguiamo e inseriamo il risultato in un dataframe"
   ]
  },
  {
   "cell_type": "code",
   "execution_count": 159,
   "metadata": {},
   "outputs": [],
   "source": [
    "import pandas as pd\n",
    "page_url = 'https://www.thomann.de/it/modelli_sg.html?ls=25&pg=1'\n",
    "records = scrape_page(page_url)\n",
    "data = pd.DataFrame(records, columns=['manufacturer','model','img_url','price','review_count','availability','rating'])\n"
   ]
  },
  {
   "cell_type": "code",
   "execution_count": 160,
   "metadata": {},
   "outputs": [
    {
     "name": "stdout",
     "output_type": "stream",
     "text": [
      "<class 'pandas.core.frame.DataFrame'>\n",
      "RangeIndex: 25 entries, 0 to 24\n",
      "Data columns (total 7 columns):\n",
      " #   Column        Non-Null Count  Dtype  \n",
      "---  ------        --------------  -----  \n",
      " 0   manufacturer  25 non-null     object \n",
      " 1   model         25 non-null     object \n",
      " 2   img_url       25 non-null     object \n",
      " 3   price         25 non-null     float64\n",
      " 4   review_count  25 non-null     int64  \n",
      " 5   availability  25 non-null     object \n",
      " 6   rating        25 non-null     float64\n",
      "dtypes: float64(2), int64(1), object(4)\n",
      "memory usage: 1.5+ KB\n",
      "None\n"
     ]
    },
    {
     "data": {
      "text/html": [
       "<div>\n",
       "<style scoped>\n",
       "    .dataframe tbody tr th:only-of-type {\n",
       "        vertical-align: middle;\n",
       "    }\n",
       "\n",
       "    .dataframe tbody tr th {\n",
       "        vertical-align: top;\n",
       "    }\n",
       "\n",
       "    .dataframe thead th {\n",
       "        text-align: right;\n",
       "    }\n",
       "</style>\n",
       "<table border=\"1\" class=\"dataframe\">\n",
       "  <thead>\n",
       "    <tr style=\"text-align: right;\">\n",
       "      <th></th>\n",
       "      <th>manufacturer</th>\n",
       "      <th>model</th>\n",
       "      <th>img_url</th>\n",
       "      <th>price</th>\n",
       "      <th>review_count</th>\n",
       "      <th>availability</th>\n",
       "      <th>rating</th>\n",
       "    </tr>\n",
       "  </thead>\n",
       "  <tbody>\n",
       "    <tr>\n",
       "      <th>0</th>\n",
       "      <td>Harley Benton</td>\n",
       "      <td>DC-600 VI Vintage Series</td>\n",
       "      <td>https://th.static-thomann.de/thumb/padthumb600...</td>\n",
       "      <td>211.0</td>\n",
       "      <td>130</td>\n",
       "      <td>disponibile</td>\n",
       "      <td>90.0</td>\n",
       "    </tr>\n",
       "    <tr>\n",
       "      <th>1</th>\n",
       "      <td>Harley Benton</td>\n",
       "      <td>DC-580 CH Vintage Series</td>\n",
       "      <td>https://th.static-thomann.de/thumb/padthumb600...</td>\n",
       "      <td>139.0</td>\n",
       "      <td>224</td>\n",
       "      <td>Disponibile a breve (normalmente 2-5 giorni)</td>\n",
       "      <td>92.0</td>\n",
       "    </tr>\n",
       "    <tr>\n",
       "      <th>2</th>\n",
       "      <td>Epiphone</td>\n",
       "      <td>Tony Iommi SG Special w/case</td>\n",
       "      <td>https://th.static-thomann.de/thumb/padthumb600...</td>\n",
       "      <td>990.0</td>\n",
       "      <td>1</td>\n",
       "      <td>disponibile</td>\n",
       "      <td>80.0</td>\n",
       "    </tr>\n",
       "    <tr>\n",
       "      <th>3</th>\n",
       "      <td>Harley Benton</td>\n",
       "      <td>Electric Guitar Kit DC Style</td>\n",
       "      <td>https://th.static-thomann.de/thumb/padthumb600...</td>\n",
       "      <td>99.0</td>\n",
       "      <td>615</td>\n",
       "      <td>disponibile</td>\n",
       "      <td>82.0</td>\n",
       "    </tr>\n",
       "    <tr>\n",
       "      <th>4</th>\n",
       "      <td>Epiphone</td>\n",
       "      <td>SG Standard '61 Vintage Cherry</td>\n",
       "      <td>https://th.static-thomann.de/thumb/padthumb600...</td>\n",
       "      <td>444.0</td>\n",
       "      <td>16</td>\n",
       "      <td>disponibile</td>\n",
       "      <td>96.0</td>\n",
       "    </tr>\n",
       "  </tbody>\n",
       "</table>\n",
       "</div>"
      ],
      "text/plain": [
       "    manufacturer                           model  \\\n",
       "0  Harley Benton        DC-600 VI Vintage Series   \n",
       "1  Harley Benton        DC-580 CH Vintage Series   \n",
       "2       Epiphone    Tony Iommi SG Special w/case   \n",
       "3  Harley Benton    Electric Guitar Kit DC Style   \n",
       "4       Epiphone  SG Standard '61 Vintage Cherry   \n",
       "\n",
       "                                             img_url  price  review_count  \\\n",
       "0  https://th.static-thomann.de/thumb/padthumb600...  211.0           130   \n",
       "1  https://th.static-thomann.de/thumb/padthumb600...  139.0           224   \n",
       "2  https://th.static-thomann.de/thumb/padthumb600...  990.0             1   \n",
       "3  https://th.static-thomann.de/thumb/padthumb600...   99.0           615   \n",
       "4  https://th.static-thomann.de/thumb/padthumb600...  444.0            16   \n",
       "\n",
       "                                   availability  rating  \n",
       "0                                   disponibile    90.0  \n",
       "1  Disponibile a breve (normalmente 2-5 giorni)    92.0  \n",
       "2                                   disponibile    80.0  \n",
       "3                                   disponibile    82.0  \n",
       "4                                   disponibile    96.0  "
      ]
     },
     "execution_count": 160,
     "metadata": {},
     "output_type": "execute_result"
    }
   ],
   "source": [
    "print(data.info())\n",
    "data.head()"
   ]
  },
  {
   "cell_type": "markdown",
   "metadata": {},
   "source": [
    "### Salviamo le immagini in una cartella"
   ]
  },
  {
   "cell_type": "markdown",
   "metadata": {},
   "source": [
    "Creiamo la cartella"
   ]
  },
  {
   "cell_type": "code",
   "execution_count": 108,
   "metadata": {},
   "outputs": [],
   "source": [
    "import os\n",
    "dest_dir = 'thomann_img'\n",
    "os.makedirs(dest_dir, exist_ok=True)"
   ]
  },
  {
   "cell_type": "markdown",
   "metadata": {},
   "source": [
    "Definiamo il nome del file in base all'ID  della riga nel dataframe"
   ]
  },
  {
   "cell_type": "code",
   "execution_count": 109,
   "metadata": {},
   "outputs": [
    {
     "data": {
      "text/plain": [
       "manufacturer                                        Harley Benton\n",
       "model                                    DC-600 VI Vintage Series\n",
       "img_url         https://thumbs.static-thomann.de/thumb//thumb2...\n",
       "price                                                       211.0\n",
       "review_count                                                  130\n",
       "availability                                          disponibile\n",
       "rating                                                       90.0\n",
       "Name: 0, dtype: object"
      ]
     },
     "execution_count": 109,
     "metadata": {},
     "output_type": "execute_result"
    }
   ],
   "source": [
    "row = data.iloc[0]\n",
    "row"
   ]
  },
  {
   "cell_type": "markdown",
   "metadata": {},
   "source": [
    "Definisco il formato del nome del file"
   ]
  },
  {
   "cell_type": "code",
   "execution_count": 110,
   "metadata": {},
   "outputs": [],
   "source": [
    "fname = \"img_{id:05d}.{ext:s}\""
   ]
  },
  {
   "cell_type": "markdown",
   "metadata": {},
   "source": [
    "Definisco la variabile ext(estensione)"
   ]
  },
  {
   "cell_type": "code",
   "execution_count": 161,
   "metadata": {},
   "outputs": [
    {
     "name": "stdout",
     "output_type": "stream",
     "text": [
      "jpg\n"
     ]
    }
   ],
   "source": [
    "ext=re.search('[^.]+$', row['img_url']).group()\n",
    "print(ext)"
   ]
  },
  {
   "cell_type": "markdown",
   "metadata": {},
   "source": [
    "Formatto quindi la stringa precedentemente definita"
   ]
  },
  {
   "cell_type": "code",
   "execution_count": 162,
   "metadata": {},
   "outputs": [
    {
     "data": {
      "text/plain": [
       "'img_00000.jpg'"
      ]
     },
     "execution_count": 162,
     "metadata": {},
     "output_type": "execute_result"
    }
   ],
   "source": [
    "fname.format(id=int(row.name),ext=ext)"
   ]
  },
  {
   "cell_type": "markdown",
   "metadata": {},
   "source": [
    "Ottengo il percorso completo del file"
   ]
  },
  {
   "cell_type": "code",
   "execution_count": 163,
   "metadata": {},
   "outputs": [
    {
     "data": {
      "text/plain": [
       "'thomann_img/img_00000.jpg'"
      ]
     },
     "execution_count": 163,
     "metadata": {},
     "output_type": "execute_result"
    }
   ],
   "source": [
    "from os.path import join\n",
    "fullpath = join(dest_dir,fname.format(id=int(row.name),ext=ext))\n",
    "fullpath"
   ]
  },
  {
   "cell_type": "markdown",
   "metadata": {},
   "source": [
    "Scarico il file mediante urllib"
   ]
  },
  {
   "cell_type": "code",
   "execution_count": 164,
   "metadata": {},
   "outputs": [
    {
     "data": {
      "text/plain": [
       "('thomann_img/img_00000.jpg', <http.client.HTTPMessage at 0x7fc2c1a2af40>)"
      ]
     },
     "execution_count": 164,
     "metadata": {},
     "output_type": "execute_result"
    }
   ],
   "source": [
    "from urllib.request import urlretrieve as retrieve\n",
    "retrieve(row['img_url'], fullpath)"
   ]
  },
  {
   "cell_type": "markdown",
   "metadata": {},
   "source": [
    "### Automatizzazione del download delle immagini"
   ]
  },
  {
   "cell_type": "markdown",
   "metadata": {},
   "source": [
    "Definisco una funzione e aggiungo un campo img_path al dataframe"
   ]
  },
  {
   "cell_type": "code",
   "execution_count": 115,
   "metadata": {},
   "outputs": [],
   "source": [
    "def download_images(data, dest_dir, fname=\"img_{id:05d}.{ext:s}\"):\n",
    "    data = data.copy() #preserva il dataframe originale\n",
    "    img_paths = []\n",
    "    data['img_path'] = None #crea una nuova colonna\n",
    "    for i, row in data.iterrows():\n",
    "        ext = re.search('[^.]+$',row['img_url']).group()\n",
    "        fullpath = join(dest_dir,fname.format(id=int(row.name),ext=ext))\n",
    "        retrieve(row['img_url'], fullpath)\n",
    "        img_paths.append(fullpath)\n",
    "        \n",
    "    data['img_path']=img_paths\n",
    "    return data"
   ]
  },
  {
   "cell_type": "markdown",
   "metadata": {},
   "source": [
    "Utilizzo la funzione per scaricare le immagini"
   ]
  },
  {
   "cell_type": "code",
   "execution_count": 165,
   "metadata": {},
   "outputs": [],
   "source": [
    "data2 = download_images(data, \"thomann_img\")"
   ]
  },
  {
   "cell_type": "markdown",
   "metadata": {},
   "source": [
    "Visualizzo il nuovo dataframe"
   ]
  },
  {
   "cell_type": "code",
   "execution_count": 117,
   "metadata": {},
   "outputs": [
    {
     "data": {
      "text/html": [
       "<div>\n",
       "<style scoped>\n",
       "    .dataframe tbody tr th:only-of-type {\n",
       "        vertical-align: middle;\n",
       "    }\n",
       "\n",
       "    .dataframe tbody tr th {\n",
       "        vertical-align: top;\n",
       "    }\n",
       "\n",
       "    .dataframe thead th {\n",
       "        text-align: right;\n",
       "    }\n",
       "</style>\n",
       "<table border=\"1\" class=\"dataframe\">\n",
       "  <thead>\n",
       "    <tr style=\"text-align: right;\">\n",
       "      <th></th>\n",
       "      <th>manufacturer</th>\n",
       "      <th>model</th>\n",
       "      <th>img_url</th>\n",
       "      <th>price</th>\n",
       "      <th>review_count</th>\n",
       "      <th>availability</th>\n",
       "      <th>rating</th>\n",
       "      <th>img_path</th>\n",
       "    </tr>\n",
       "  </thead>\n",
       "  <tbody>\n",
       "    <tr>\n",
       "      <th>0</th>\n",
       "      <td>Harley Benton</td>\n",
       "      <td>DC-600 VI Vintage Series</td>\n",
       "      <td>https://thumbs.static-thomann.de/thumb//thumb2...</td>\n",
       "      <td>211.0</td>\n",
       "      <td>130</td>\n",
       "      <td>disponibile</td>\n",
       "      <td>90.0</td>\n",
       "      <td>thomann_img/img_00000.jpg</td>\n",
       "    </tr>\n",
       "    <tr>\n",
       "      <th>1</th>\n",
       "      <td>Harley Benton</td>\n",
       "      <td>DC-580 CH Vintage Series</td>\n",
       "      <td>https://thumbs.static-thomann.de/thumb//thumb2...</td>\n",
       "      <td>139.0</td>\n",
       "      <td>224</td>\n",
       "      <td>Disponibile a breve (normalmente 2-5 giorni)</td>\n",
       "      <td>92.0</td>\n",
       "      <td>thomann_img/img_00001.jpg</td>\n",
       "    </tr>\n",
       "    <tr>\n",
       "      <th>2</th>\n",
       "      <td>Epiphone</td>\n",
       "      <td>Tony Iommi SG Special w/case</td>\n",
       "      <td>https://thumbs.static-thomann.de/thumb//thumb2...</td>\n",
       "      <td>990.0</td>\n",
       "      <td>1</td>\n",
       "      <td>disponibile</td>\n",
       "      <td>80.0</td>\n",
       "      <td>thomann_img/img_00002.jpg</td>\n",
       "    </tr>\n",
       "    <tr>\n",
       "      <th>3</th>\n",
       "      <td>Harley Benton</td>\n",
       "      <td>Electric Guitar Kit DC Style</td>\n",
       "      <td>https://thumbs.static-thomann.de/thumb//thumb2...</td>\n",
       "      <td>99.0</td>\n",
       "      <td>615</td>\n",
       "      <td>disponibile</td>\n",
       "      <td>82.0</td>\n",
       "      <td>thomann_img/img_00003.jpg</td>\n",
       "    </tr>\n",
       "    <tr>\n",
       "      <th>4</th>\n",
       "      <td>Epiphone</td>\n",
       "      <td>SG Standard '61 Vintage Cherry</td>\n",
       "      <td>https://thumbs.static-thomann.de/thumb//thumb2...</td>\n",
       "      <td>444.0</td>\n",
       "      <td>16</td>\n",
       "      <td>disponibile</td>\n",
       "      <td>96.0</td>\n",
       "      <td>thomann_img/img_00004.jpg</td>\n",
       "    </tr>\n",
       "  </tbody>\n",
       "</table>\n",
       "</div>"
      ],
      "text/plain": [
       "    manufacturer                           model  \\\n",
       "0  Harley Benton        DC-600 VI Vintage Series   \n",
       "1  Harley Benton        DC-580 CH Vintage Series   \n",
       "2       Epiphone    Tony Iommi SG Special w/case   \n",
       "3  Harley Benton    Electric Guitar Kit DC Style   \n",
       "4       Epiphone  SG Standard '61 Vintage Cherry   \n",
       "\n",
       "                                             img_url  price  review_count  \\\n",
       "0  https://thumbs.static-thomann.de/thumb//thumb2...  211.0           130   \n",
       "1  https://thumbs.static-thomann.de/thumb//thumb2...  139.0           224   \n",
       "2  https://thumbs.static-thomann.de/thumb//thumb2...  990.0             1   \n",
       "3  https://thumbs.static-thomann.de/thumb//thumb2...   99.0           615   \n",
       "4  https://thumbs.static-thomann.de/thumb//thumb2...  444.0            16   \n",
       "\n",
       "                                   availability  rating  \\\n",
       "0                                   disponibile    90.0   \n",
       "1  Disponibile a breve (normalmente 2-5 giorni)    92.0   \n",
       "2                                   disponibile    80.0   \n",
       "3                                   disponibile    82.0   \n",
       "4                                   disponibile    96.0   \n",
       "\n",
       "                    img_path  \n",
       "0  thomann_img/img_00000.jpg  \n",
       "1  thomann_img/img_00001.jpg  \n",
       "2  thomann_img/img_00002.jpg  \n",
       "3  thomann_img/img_00003.jpg  \n",
       "4  thomann_img/img_00004.jpg  "
      ]
     },
     "execution_count": 117,
     "metadata": {},
     "output_type": "execute_result"
    }
   ],
   "source": [
    "data2.head()"
   ]
  },
  {
   "cell_type": "markdown",
   "metadata": {},
   "source": [
    "## Navigare tra le pagine"
   ]
  },
  {
   "cell_type": "markdown",
   "metadata": {},
   "source": [
    "Notiamo che le pagine seguono la struttura \"https://www.thomann.de/it/modelli_sg.html?ls=25&pg=1\" avente ls=x & pg=y alla fine. Sfruttiamo ciò per navigare fra le pagine. Inoltre nel caso inserissimo un numero di pagina inesistente viene visualizzata una pagina bianca."
   ]
  },
  {
   "cell_type": "markdown",
   "metadata": {},
   "source": [
    "Isoliamo pagina e dominio tramite un espressione regolare:"
   ]
  },
  {
   "cell_type": "code",
   "execution_count": 121,
   "metadata": {},
   "outputs": [
    {
     "name": "stdout",
     "output_type": "stream",
     "text": [
      "https://www.thomann.de/it/modelli_sg.html?ls=25&pg=1\n"
     ]
    }
   ],
   "source": [
    "print(page_url)"
   ]
  },
  {
   "cell_type": "code",
   "execution_count": 125,
   "metadata": {},
   "outputs": [
    {
     "name": "stdout",
     "output_type": "stream",
     "text": [
      "https://www.thomann.de/it/modelli_sg.html\n"
     ]
    }
   ],
   "source": [
    "base_url = re.search('http(s)?://[^/]*/[^?]*',page_url).group(0)\n",
    "print(base_url)"
   ]
  },
  {
   "cell_type": "markdown",
   "metadata": {},
   "source": [
    "Scriviamo quindi il formato delle pagine come segue:"
   ]
  },
  {
   "cell_type": "code",
   "execution_count": 126,
   "metadata": {},
   "outputs": [
    {
     "data": {
      "text/plain": [
       "'https://www.thomann.de/it/modelli_sg.html?ls=25&pg=1'"
      ]
     },
     "execution_count": 126,
     "metadata": {},
     "output_type": "execute_result"
    }
   ],
   "source": [
    "p = 1\n",
    "f\"{base_url}?ls=25&pg={p:d}\""
   ]
  },
  {
   "cell_type": "markdown",
   "metadata": {},
   "source": [
    "### Includiamo nello script di scraping la navigazione nelle pagine"
   ]
  },
  {
   "cell_type": "code",
   "execution_count": 129,
   "metadata": {},
   "outputs": [],
   "source": [
    "def navigate_and_scrape(base_url, records = None):\n",
    "    if records is None:\n",
    "        records = []\n",
    "    \n",
    "    all_records = records\n",
    "    page = 1 #iniziamo dalla pagina 1\n",
    "    while(True and page <= 5):\n",
    "        url = f\"{base_url}?pg={page:d}&ls=25\"\n",
    "        records = scrape_page(url)\n",
    "        all_records.extend(records)\n",
    "        if len(records)==0: #usciamo quando la pagina non contiene più record\n",
    "            break\n",
    "        page+=1\n",
    "    \n",
    "    return all_records"
   ]
  },
  {
   "cell_type": "markdown",
   "metadata": {},
   "source": [
    "Eseguiamo la funzione per effettuare lo scraping"
   ]
  },
  {
   "cell_type": "code",
   "execution_count": 130,
   "metadata": {},
   "outputs": [],
   "source": [
    "records = navigate_and_scrape(page_url)\n",
    "data = pd.DataFrame(records, columns=['manufacturer','model','img_url','price','review_count','availability','rating'])"
   ]
  },
  {
   "cell_type": "markdown",
   "metadata": {},
   "source": [
    "Visualizziamo quanto ottenuto dallo scraping con navigazione"
   ]
  },
  {
   "cell_type": "code",
   "execution_count": 131,
   "metadata": {},
   "outputs": [
    {
     "name": "stdout",
     "output_type": "stream",
     "text": [
      "<class 'pandas.core.frame.DataFrame'>\n",
      "RangeIndex: 125 entries, 0 to 124\n",
      "Data columns (total 7 columns):\n",
      " #   Column        Non-Null Count  Dtype  \n",
      "---  ------        --------------  -----  \n",
      " 0   manufacturer  125 non-null    object \n",
      " 1   model         125 non-null    object \n",
      " 2   img_url       125 non-null    object \n",
      " 3   price         125 non-null    float64\n",
      " 4   review_count  125 non-null    int64  \n",
      " 5   availability  125 non-null    object \n",
      " 6   rating        125 non-null    float64\n",
      "dtypes: float64(2), int64(1), object(4)\n",
      "memory usage: 7.0+ KB\n",
      "None\n"
     ]
    },
    {
     "data": {
      "text/html": [
       "<div>\n",
       "<style scoped>\n",
       "    .dataframe tbody tr th:only-of-type {\n",
       "        vertical-align: middle;\n",
       "    }\n",
       "\n",
       "    .dataframe tbody tr th {\n",
       "        vertical-align: top;\n",
       "    }\n",
       "\n",
       "    .dataframe thead th {\n",
       "        text-align: right;\n",
       "    }\n",
       "</style>\n",
       "<table border=\"1\" class=\"dataframe\">\n",
       "  <thead>\n",
       "    <tr style=\"text-align: right;\">\n",
       "      <th></th>\n",
       "      <th>manufacturer</th>\n",
       "      <th>model</th>\n",
       "      <th>img_url</th>\n",
       "      <th>price</th>\n",
       "      <th>review_count</th>\n",
       "      <th>availability</th>\n",
       "      <th>rating</th>\n",
       "    </tr>\n",
       "  </thead>\n",
       "  <tbody>\n",
       "    <tr>\n",
       "      <th>0</th>\n",
       "      <td>Harley Benton</td>\n",
       "      <td>DC-600 VI Vintage Series</td>\n",
       "      <td>https://th.static-thomann.de/thumb//thumb220x2...</td>\n",
       "      <td>211.0</td>\n",
       "      <td>130</td>\n",
       "      <td>disponibile</td>\n",
       "      <td>90.0</td>\n",
       "    </tr>\n",
       "    <tr>\n",
       "      <th>1</th>\n",
       "      <td>Harley Benton</td>\n",
       "      <td>DC-580 CH Vintage Series</td>\n",
       "      <td>https://th.static-thomann.de/thumb//thumb220x2...</td>\n",
       "      <td>139.0</td>\n",
       "      <td>224</td>\n",
       "      <td>Disponibile a breve (normalmente 2-5 giorni)</td>\n",
       "      <td>92.0</td>\n",
       "    </tr>\n",
       "    <tr>\n",
       "      <th>2</th>\n",
       "      <td>Epiphone</td>\n",
       "      <td>Tony Iommi SG Special w/case</td>\n",
       "      <td>https://th.static-thomann.de/thumb//thumb220x2...</td>\n",
       "      <td>990.0</td>\n",
       "      <td>1</td>\n",
       "      <td>disponibile</td>\n",
       "      <td>80.0</td>\n",
       "    </tr>\n",
       "    <tr>\n",
       "      <th>3</th>\n",
       "      <td>Harley Benton</td>\n",
       "      <td>Electric Guitar Kit DC Style</td>\n",
       "      <td>https://th.static-thomann.de/thumb//thumb220x2...</td>\n",
       "      <td>99.0</td>\n",
       "      <td>615</td>\n",
       "      <td>disponibile</td>\n",
       "      <td>82.0</td>\n",
       "    </tr>\n",
       "    <tr>\n",
       "      <th>4</th>\n",
       "      <td>Epiphone</td>\n",
       "      <td>SG Standard '61 Vintage Cherry</td>\n",
       "      <td>https://th.static-thomann.de/thumb//thumb220x2...</td>\n",
       "      <td>444.0</td>\n",
       "      <td>16</td>\n",
       "      <td>disponibile</td>\n",
       "      <td>96.0</td>\n",
       "    </tr>\n",
       "    <tr>\n",
       "      <th>5</th>\n",
       "      <td>Epiphone</td>\n",
       "      <td>Prophecy SG Blue Tiger</td>\n",
       "      <td>https://th.static-thomann.de/thumb//thumb220x2...</td>\n",
       "      <td>698.0</td>\n",
       "      <td>4</td>\n",
       "      <td>disponibile</td>\n",
       "      <td>100.0</td>\n",
       "    </tr>\n",
       "    <tr>\n",
       "      <th>6</th>\n",
       "      <td>Harley Benton</td>\n",
       "      <td>DC-DLX Gotoh Pelham Blue</td>\n",
       "      <td>https://th.static-thomann.de/thumb//thumb220x2...</td>\n",
       "      <td>244.0</td>\n",
       "      <td>30</td>\n",
       "      <td>disponibile</td>\n",
       "      <td>94.0</td>\n",
       "    </tr>\n",
       "    <tr>\n",
       "      <th>7</th>\n",
       "      <td>Harley Benton</td>\n",
       "      <td>DC-200 CH Student Series</td>\n",
       "      <td>https://th.static-thomann.de/thumb//thumb220x2...</td>\n",
       "      <td>99.0</td>\n",
       "      <td>108</td>\n",
       "      <td>Disponibile a breve (normalmente 2-5 giorni)</td>\n",
       "      <td>90.0</td>\n",
       "    </tr>\n",
       "    <tr>\n",
       "      <th>8</th>\n",
       "      <td>Harley Benton</td>\n",
       "      <td>CST-24T Emerald Flame</td>\n",
       "      <td>https://th.static-thomann.de/thumb//thumb220x2...</td>\n",
       "      <td>269.0</td>\n",
       "      <td>145</td>\n",
       "      <td>disponibile</td>\n",
       "      <td>94.0</td>\n",
       "    </tr>\n",
       "    <tr>\n",
       "      <th>9</th>\n",
       "      <td>Harley Benton</td>\n",
       "      <td>DC-Junior TV Yellow</td>\n",
       "      <td>https://th.static-thomann.de/thumb//thumb220x2...</td>\n",
       "      <td>199.0</td>\n",
       "      <td>181</td>\n",
       "      <td>Disponibile a breve (normalmente 2-5 giorni)</td>\n",
       "      <td>92.0</td>\n",
       "    </tr>\n",
       "  </tbody>\n",
       "</table>\n",
       "</div>"
      ],
      "text/plain": [
       "    manufacturer                           model  \\\n",
       "0  Harley Benton        DC-600 VI Vintage Series   \n",
       "1  Harley Benton        DC-580 CH Vintage Series   \n",
       "2       Epiphone    Tony Iommi SG Special w/case   \n",
       "3  Harley Benton    Electric Guitar Kit DC Style   \n",
       "4       Epiphone  SG Standard '61 Vintage Cherry   \n",
       "5       Epiphone          Prophecy SG Blue Tiger   \n",
       "6  Harley Benton        DC-DLX Gotoh Pelham Blue   \n",
       "7  Harley Benton        DC-200 CH Student Series   \n",
       "8  Harley Benton           CST-24T Emerald Flame   \n",
       "9  Harley Benton             DC-Junior TV Yellow   \n",
       "\n",
       "                                             img_url  price  review_count  \\\n",
       "0  https://th.static-thomann.de/thumb//thumb220x2...  211.0           130   \n",
       "1  https://th.static-thomann.de/thumb//thumb220x2...  139.0           224   \n",
       "2  https://th.static-thomann.de/thumb//thumb220x2...  990.0             1   \n",
       "3  https://th.static-thomann.de/thumb//thumb220x2...   99.0           615   \n",
       "4  https://th.static-thomann.de/thumb//thumb220x2...  444.0            16   \n",
       "5  https://th.static-thomann.de/thumb//thumb220x2...  698.0             4   \n",
       "6  https://th.static-thomann.de/thumb//thumb220x2...  244.0            30   \n",
       "7  https://th.static-thomann.de/thumb//thumb220x2...   99.0           108   \n",
       "8  https://th.static-thomann.de/thumb//thumb220x2...  269.0           145   \n",
       "9  https://th.static-thomann.de/thumb//thumb220x2...  199.0           181   \n",
       "\n",
       "                                   availability  rating  \n",
       "0                                   disponibile    90.0  \n",
       "1  Disponibile a breve (normalmente 2-5 giorni)    92.0  \n",
       "2                                   disponibile    80.0  \n",
       "3                                   disponibile    82.0  \n",
       "4                                   disponibile    96.0  \n",
       "5                                   disponibile   100.0  \n",
       "6                                   disponibile    94.0  \n",
       "7  Disponibile a breve (normalmente 2-5 giorni)    90.0  \n",
       "8                                   disponibile    94.0  \n",
       "9  Disponibile a breve (normalmente 2-5 giorni)    92.0  "
      ]
     },
     "execution_count": 131,
     "metadata": {},
     "output_type": "execute_result"
    }
   ],
   "source": [
    "print(data.info())\n",
    "data.head(10)"
   ]
  },
  {
   "cell_type": "markdown",
   "metadata": {},
   "source": [
    "# Analisi dei dati prelevati"
   ]
  },
  {
   "cell_type": "markdown",
   "metadata": {},
   "source": [
    "Vediamo delle statistiche quantitative sui dati appena estratti"
   ]
  },
  {
   "cell_type": "code",
   "execution_count": 132,
   "metadata": {},
   "outputs": [
    {
     "data": {
      "text/html": [
       "<div>\n",
       "<style scoped>\n",
       "    .dataframe tbody tr th:only-of-type {\n",
       "        vertical-align: middle;\n",
       "    }\n",
       "\n",
       "    .dataframe tbody tr th {\n",
       "        vertical-align: top;\n",
       "    }\n",
       "\n",
       "    .dataframe thead th {\n",
       "        text-align: right;\n",
       "    }\n",
       "</style>\n",
       "<table border=\"1\" class=\"dataframe\">\n",
       "  <thead>\n",
       "    <tr style=\"text-align: right;\">\n",
       "      <th></th>\n",
       "      <th>price</th>\n",
       "      <th>review_count</th>\n",
       "      <th>rating</th>\n",
       "    </tr>\n",
       "  </thead>\n",
       "  <tbody>\n",
       "    <tr>\n",
       "      <th>count</th>\n",
       "      <td>125.000000</td>\n",
       "      <td>125.000000</td>\n",
       "      <td>125.000000</td>\n",
       "    </tr>\n",
       "    <tr>\n",
       "      <th>mean</th>\n",
       "      <td>383.490200</td>\n",
       "      <td>71.520000</td>\n",
       "      <td>88.800000</td>\n",
       "    </tr>\n",
       "    <tr>\n",
       "      <th>std</th>\n",
       "      <td>337.626626</td>\n",
       "      <td>126.556796</td>\n",
       "      <td>18.837163</td>\n",
       "    </tr>\n",
       "    <tr>\n",
       "      <th>min</th>\n",
       "      <td>1.099000</td>\n",
       "      <td>0.000000</td>\n",
       "      <td>0.000000</td>\n",
       "    </tr>\n",
       "    <tr>\n",
       "      <th>25%</th>\n",
       "      <td>99.000000</td>\n",
       "      <td>7.000000</td>\n",
       "      <td>90.000000</td>\n",
       "    </tr>\n",
       "    <tr>\n",
       "      <th>50%</th>\n",
       "      <td>249.000000</td>\n",
       "      <td>23.000000</td>\n",
       "      <td>94.000000</td>\n",
       "    </tr>\n",
       "    <tr>\n",
       "      <th>75%</th>\n",
       "      <td>575.000000</td>\n",
       "      <td>69.000000</td>\n",
       "      <td>96.000000</td>\n",
       "    </tr>\n",
       "    <tr>\n",
       "      <th>max</th>\n",
       "      <td>999.000000</td>\n",
       "      <td>615.000000</td>\n",
       "      <td>100.000000</td>\n",
       "    </tr>\n",
       "  </tbody>\n",
       "</table>\n",
       "</div>"
      ],
      "text/plain": [
       "            price  review_count      rating\n",
       "count  125.000000    125.000000  125.000000\n",
       "mean   383.490200     71.520000   88.800000\n",
       "std    337.626626    126.556796   18.837163\n",
       "min      1.099000      0.000000    0.000000\n",
       "25%     99.000000      7.000000   90.000000\n",
       "50%    249.000000     23.000000   94.000000\n",
       "75%    575.000000     69.000000   96.000000\n",
       "max    999.000000    615.000000  100.000000"
      ]
     },
     "execution_count": 132,
     "metadata": {},
     "output_type": "execute_result"
    }
   ],
   "source": [
    "data.describe()"
   ]
  },
  {
   "cell_type": "markdown",
   "metadata": {},
   "source": [
    "Vediamo adesso quanti prodotti ci sono di ogni marca"
   ]
  },
  {
   "cell_type": "code",
   "execution_count": 133,
   "metadata": {},
   "outputs": [
    {
     "data": {
      "image/png": "[encoded data removed]",
      "text/plain": [
       "<Figure size 576x576 with 1 Axes>"
      ]
     },
     "metadata": {},
     "output_type": "display_data"
    }
   ],
   "source": [
    "from matplotlib import pyplot as plt\n",
    "plt.figure(figsize=(8,8))\n",
    "data.groupby('manufacturer')['manufacturer'].count().plot.pie(rotatelabels=True)\n",
    "plt.show()"
   ]
  },
  {
   "cell_type": "markdown",
   "metadata": {},
   "source": [
    "Calcoliamo ora il prezzo medio per ogni marca"
   ]
  },
  {
   "cell_type": "code",
   "execution_count": 134,
   "metadata": {},
   "outputs": [
    {
     "data": {
      "image/png": "[encoded data removed]",
      "text/plain": [
       "<Figure size 864x432 with 1 Axes>"
      ]
     },
     "metadata": {
      "needs_background": "light"
     },
     "output_type": "display_data"
    }
   ],
   "source": [
    "plt.figure(figsize=(12,6))\n",
    "data.groupby('manufacturer')['price'].mean().plot.bar()\n",
    "plt.grid()\n",
    "plt.show()"
   ]
  },
  {
   "cell_type": "markdown",
   "metadata": {},
   "source": [
    "Vediamo ora quali sono le marche più popolari analizzando il numero di review"
   ]
  },
  {
   "cell_type": "code",
   "execution_count": 135,
   "metadata": {},
   "outputs": [
    {
     "data": {
      "image/png": "[encoded data removed]",
      "text/plain": [
       "<Figure size 864x432 with 1 Axes>"
      ]
     },
     "metadata": {
      "needs_background": "light"
     },
     "output_type": "display_data"
    }
   ],
   "source": [
    "plt.figure(figsize=(12,6))\n",
    "data.groupby('manufacturer')['review_count'].sum().plot.bar()\n",
    "plt.grid()\n",
    "plt.show()"
   ]
  },
  {
   "cell_type": "markdown",
   "metadata": {},
   "source": [
    "Vediamo adesso il rating medio degli oggetti di ogni marca"
   ]
  },
  {
   "cell_type": "code",
   "execution_count": 136,
   "metadata": {},
   "outputs": [
    {
     "data": {
      "image/png": "[encoded data removed]",
      "text/plain": [
       "<Figure size 864x432 with 1 Axes>"
      ]
     },
     "metadata": {
      "needs_background": "light"
     },
     "output_type": "display_data"
    }
   ],
   "source": [
    "plt.figure(figsize=(12,6))\n",
    "data.groupby('manufacturer')['rating'].mean().plot.bar()\n",
    "plt.grid()\n",
    "plt.show()"
   ]
  }
 ],
 "metadata": {
  "kernelspec": {
   "display_name": "Python 3.9.12 ('base')",
   "language": "python",
   "name": "python3"
  },
  "language_info": {
   "codemirror_mode": {
    "name": "ipython",
    "version": 3
   },
   "file_extension": ".py",
   "mimetype": "text/x-python",
   "name": "python",
   "nbconvert_exporter": "python",
   "pygments_lexer": "ipython3",
   "version": "3.9.12"
  },
  "orig_nbformat": 4,
  "vscode": {
   "interpreter": {
    "hash": "78239f9bf00265d60c54cc25ac9590694e77150c77a8368a51a578d2f506cc0b"
   }
  }
 },
 "nbformat": 4,
 "nbformat_minor": 2
}
