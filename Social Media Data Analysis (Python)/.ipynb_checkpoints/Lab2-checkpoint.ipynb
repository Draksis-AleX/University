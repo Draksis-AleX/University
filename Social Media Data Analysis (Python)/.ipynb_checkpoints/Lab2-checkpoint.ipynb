{
 "cells": [
  {
   "cell_type": "markdown",
   "metadata": {},
   "source": [
    "# Laboratorio 2 Social Media (Web Scraping)"
   ]
  },
  {
   "cell_type": "markdown",
   "metadata": {},
   "source": [
    "Iniziamo importando la pagina HTML tramite una URL request"
   ]
  },
  {
   "cell_type": "code",
   "execution_count": 1,
   "metadata": {},
   "outputs": [
    {
     "name": "stdout",
     "output_type": "stream",
     "text": [
      "b'<!DOCTYPE HTML PUBLIC \"-//W3C//DTD HTML 4.01 Transitional//EN\"\\n            \"http://www.w3.org/TR/html4/loose.dtd\">\\n\\n<html lang=\"it\" class=\"no-js\">\\n<head>\\n\\n<link rel=\"preconnect\" href=\"https://fonts.static-thomann.de\" crossorigin>\\n<link href=\"https://fonts.static-thomann.de/pics/fonts/open-sans.css?v=1\" rel=\"stylesheet\">\\n\\n<meta name=\"charset\" content=\"utf-8\">\\n<meta http-equiv=\"Content-Type\" content=\"text/html; charset=utf-8\">\\n<meta http-equiv=\"X-UA-Compatible\" content=\"IE=edge\">\\n<title>Ukulele Soprani &ndash; Thomann Italia</title>\\n\\n<meta name=\"description\" content=\"Pi&ugrave; di {numberOfArticlesInCategory} a partire da {minPrice} in stock - Sul nostro sito trovi sempre lo strumento adatto per te. Spese di spedizione gratuite, 30 giorni &quot;soddisfatto o rimborsato&quot; e 3 anni di garanzia. \\nThomann - Il negozio di musica pi&ugrave; grande d\\'Europa\">\\n\\n<meta name=\"Language\" content=\"it-IT\">\\n<meta name=\"Content-Language\" content=\"it-IT\">\\n<meta name=\"viewport\" content=\"width=device-wi'\n"
     ]
    }
   ],
   "source": [
    "from urllib.request import urlopen as uRequest\n",
    "uClient = uRequest(\"https://www.thomann.de/it/ukulele_soprani.html\")\n",
    "page_html = uClient.read()\n",
    "print(page_html[:1000])"
   ]
  },
  {
   "cell_type": "markdown",
   "metadata": {},
   "source": [
    "Importo beautiful soup per far diventare la pagina un oggetto BeautifulSoup"
   ]
  },
  {
   "cell_type": "code",
   "execution_count": 2,
   "metadata": {},
   "outputs": [
    {
     "name": "stdout",
     "output_type": "stream",
     "text": [
      "<class 'bs4.BeautifulSoup'>\n"
     ]
    }
   ],
   "source": [
    "from bs4 import BeautifulSoup as soup\n",
    "page_soup = soup(page_html)\n",
    "print(type(page_soup))"
   ]
  },
  {
   "cell_type": "markdown",
   "metadata": {},
   "source": [
    "Cerco tutti i div della classe \"fx-product-list-entry\". Stamp il tipo di tali oggetti e quanti sono"
   ]
  },
  {
   "cell_type": "code",
   "execution_count": 3,
   "metadata": {},
   "outputs": [
    {
     "name": "stdout",
     "output_type": "stream",
     "text": [
      "<class 'bs4.element.ResultSet'> 25\n"
     ]
    }
   ],
   "source": [
    "containers = page_soup.findAll('div',{'class':'fx-product-list-entry'})\n",
    "print(type(containers), len(containers))"
   ]
  },
  {
   "cell_type": "markdown",
   "metadata": {},
   "source": [
    "Visualizzo il contenuto del primo container"
   ]
  },
  {
   "cell_type": "code",
   "execution_count": 4,
   "metadata": {},
   "outputs": [
    {
     "name": "stdout",
     "output_type": "stream",
     "text": [
      "<div class=\"fx-product-list-entry\">\n",
      "<div class=\"product\">\n",
      "<a class=\"product__image\" href=\"harley_benton_uk_12_black.htm?listPosition=0&amp;type=category\">\n",
      "<picture class=\"fx-picture\">\n",
      "<source data-srcset=\"https://th.static-thomann.de/thumb//thumb220x220/pics/prod/257768.webp\" srcset=\"\" type=\"image/webp\"> <source data-srcset=\"https://th.static-thomann.de/thumb//thumb220x220/pics/prod/257768.jpg\" srcset=\"\"> <img alt=\"Harley Benton UK-12 Black\" class=\"fx-image responsive-image product-image lazyload loaded\" data-src=\"\" height=\" 220\" src=\"https://im.static-thomann.de/pics/images/misc/placeholder.svg\" width=\" 220\"/>\n",
      "</source></source></picture>\n",
      "</a>\n",
      "<a class=\"product__content\" href=\"harley_benton_uk_12_black.htm?listPosition=0&amp;type=category\">\n",
      "<div class=\"product__details\">\n",
      "<div class=\"product__title fx-text\">\n",
      "<span class=\"title__manufacturer\">Harley Benton</span>\n",
      "<span class=\"title__name\">UK-12 Black</span>\n",
      "</div>\n",
      "<div class=\"product__meta-container\">\n",
      "<div class=\"product__meta-line\">\n",
      "<div class=\"product__rating-stars\">\n",
      "<div class=\"fx-rating-stars\">\n",
      "<div class=\"fx-rating-stars__stars\">\n",
      "<svg class=\"fx-icon fx-icon-star-fill fx-rating-stars__icon product__rating-star\">\n",
      "<use xlink:href=\"/static/icons/fxicons.svg?v=9943#star-fill\"></use>\n",
      "</svg> <svg class=\"fx-icon fx-icon-star-fill fx-rating-stars__icon product__rating-star\">\n",
      "<use xlink:href=\"/static/icons/fxicons.svg?v=9943#star-fill\"></use>\n",
      "</svg> <svg class=\"fx-icon fx-icon-star-fill fx-rating-stars__icon product__rating-star\">\n",
      "<use xlink:href=\"/static/icons/fxicons.svg?v=9943#star-fill\"></use>\n",
      "</svg> <svg class=\"fx-icon fx-icon-star-fill fx-rating-stars__icon product__rating-star\">\n",
      "<use xlink:href=\"/static/icons/fxicons.svg?v=9943#star-fill\"></use>\n",
      "</svg> <svg class=\"fx-icon fx-icon-star-fill fx-rating-stars__icon product__rating-star\">\n",
      "<use xlink:href=\"/static/icons/fxicons.svg?v=9943#star-fill\"></use>\n",
      "</svg>\n",
      "<div class=\"fx-rating-stars__filler\" style=\"width: 80%\">\n",
      "<svg class=\"fx-icon fx-icon-star-fill fx-rating-stars__filler-icon product__rating-star\">\n",
      "<use xlink:href=\"/static/icons/fxicons.svg?v=9943#star-fill\"></use>\n",
      "</svg> <svg class=\"fx-icon fx-icon-star-fill fx-rating-stars__filler-icon product__rating-star\">\n",
      "<use xlink:href=\"/static/icons/fxicons.svg?v=9943#star-fill\"></use>\n",
      "</svg> <svg class=\"fx-icon fx-icon-star-fill fx-rating-stars__filler-icon product__rating-star\">\n",
      "<use xlink:href=\"/static/icons/fxicons.svg?v=9943#star-fill\"></use>\n",
      "</svg> <svg class=\"fx-icon fx-icon-star-fill fx-rating-stars__filler-icon product__rating-star\">\n",
      "<use xlink:href=\"/static/icons/fxicons.svg?v=9943#star-fill\"></use>\n",
      "</svg> <svg class=\"fx-icon fx-icon-star-fill fx-rating-stars__filler-icon product__rating-star\">\n",
      "<use xlink:href=\"/static/icons/fxicons.svg?v=9943#star-fill\"></use>\n",
      "</svg> </div>\n",
      "</div>\n",
      "<div class=\"fx-rating-stars__description\">466</div>\n",
      "</div>\n",
      "</div>\n",
      "</div>\n",
      "</div>\n",
      "<div class=\"product__description\">\n",
      "<ul class=\"fx-list\">\n",
      "<li class=\"product__description-item fx-list__item fx-list__item--circle\">Body &amp; neck: Basswood</li>\n",
      "<li class=\"product__description-item fx-list__item fx-list__item--circle\">Fretboard: roseacer (thermally treated maple wood)</li>\n",
      "<li class=\"product__description-item fx-list__item fx-list__item--circle\">12 Frets</li>\n",
      "</ul>\n",
      "</div>\n",
      "<div class=\"product__availability fx-availability fx-availability--in-stock\">\n",
      "                        disponibile\n",
      "                    </div>\n",
      "</div>\n",
      "<div class=\"product__price\">\n",
      "<div class=\"fx-price-group product__price-group\">\n",
      "<span class=\"fx-typography-price-primary fx-price-group__primary product__price-primary\">            € 19,90\n",
      "    </span>\n",
      "</div>\n",
      "</div> </a>\n",
      "<div class=\"product__actions\">\n",
      "<div class=\"action__compare js-action__compare\" data-number=\"257768\" data-reference-tracking=\"\">\n",
      "<svg class=\"fx-icon fx-icon-compare compare-icon\">\n",
      "<use xlink:href=\"/static/icons/fxicons.svg?v=9943#compare\"></use>\n",
      "</svg> </div>\n",
      "<div class=\"action__wishlist js-action__wishlist\" data-caid=\"\" data-is-on-wishlist=\"\" data-number=\"257768\" data-reference-tracking=\"\" data-wishlist-entry-id=\"\" data-wishlist-url=\"\">\n",
      "<svg class=\"fx-icon fx-icon-heart wishlist-icon fx-size--md-md-lg\">\n",
      "<use xlink:href=\"/static/icons/fxicons.svg?v=9943#heart\"></use>\n",
      "</svg> <svg class=\"fx-icon fx-icon-heart-filled wishlist-icon fx-size--md-md-lg fx-icon--active fx-icon--hidden\">\n",
      "<use xlink:href=\"/static/icons/fxicons.svg?v=9943#heart-filled\"></use>\n",
      "</svg> </div>\n",
      "<div class=\"action__basket js-action__basket\" data-is-download=\"\" data-is-voucher=\"\" data-number=\"257768\" data-reference-tracking=\"\">\n",
      "<form action=\"\" class=\"basket-form\" method=\"post\">\n",
      "<input name=\"ar\" type=\"hidden\" value=\"257768\"/>\n",
      "<button class=\"basket-button\" type=\"submit\">\n",
      "<svg class=\"fx-icon fx-icon-cart basket-icon\">\n",
      "<use xlink:href=\"/static/icons/fxicons.svg?v=9943#cart\"></use>\n",
      "</svg> </button>\n",
      "</form>\n",
      "</div>\n",
      "</div>\n",
      "</div>\n",
      "</div>\n"
     ]
    }
   ],
   "source": [
    "container=containers[0]\n",
    "print(container)"
   ]
  },
  {
   "cell_type": "markdown",
   "metadata": {},
   "source": [
    "Estraggo il Manufacturer dal primo container"
   ]
  },
  {
   "cell_type": "code",
   "execution_count": 5,
   "metadata": {},
   "outputs": [
    {
     "name": "stdout",
     "output_type": "stream",
     "text": [
      "Harley Benton\n"
     ]
    }
   ],
   "source": [
    "manufacturer = container.findAll('span',{'class':'title__manufacturer'})[0].text\n",
    "print(manufacturer)"
   ]
  },
  {
   "cell_type": "markdown",
   "metadata": {},
   "source": [
    "Estraggo il Modello dal primo container"
   ]
  },
  {
   "cell_type": "code",
   "execution_count": 6,
   "metadata": {},
   "outputs": [
    {
     "name": "stdout",
     "output_type": "stream",
     "text": [
      "UK-12 Black\n"
     ]
    }
   ],
   "source": [
    "model = container.findAll('span',{'class':'title__name'})[0].text\n",
    "print(model)"
   ]
  },
  {
   "cell_type": "markdown",
   "metadata": {},
   "source": [
    "Estraggo l'immagine dal primo container"
   ]
  },
  {
   "cell_type": "code",
   "execution_count": 10,
   "metadata": {},
   "outputs": [
    {
     "data": {
      "text/plain": [
       "<source data-srcset=\"https://th.static-thomann.de/thumb//thumb220x220/pics/prod/257768.jpg\" srcset=\"\"> <img alt=\"Harley Benton UK-12 Black\" class=\"fx-image responsive-image product-image lazyload loaded\" data-src=\"\" height=\" 220\" src=\"https://im.static-thomann.de/pics/images/misc/placeholder.svg\" width=\" 220\"/>\n",
       "</source>"
      ]
     },
     "execution_count": 10,
     "metadata": {},
     "output_type": "execute_result"
    }
   ],
   "source": [
    "container.findAll('a',{'class':'product__image'})[0]"
   ]
  },
  {
   "cell_type": "code",
   "execution_count": 11,
   "metadata": {},
   "outputs": [
    {
     "name": "stdout",
     "output_type": "stream",
     "text": [
      "https://th.static-thomann.de/thumb//thumb220x220/pics/prod/257768.jpg\n"
     ]
    }
   ],
   "source": [
    "img_url = container.findAll('a',{'class':'product__image'})[0].picture.source.source['data-srcset']\n",
    "print(img_url)"
   ]
  },
  {
   "cell_type": "code",
   "execution_count": null,
   "metadata": {},
   "outputs": [],
   "source": []
  }
 ],
 "metadata": {
  "kernelspec": {
   "display_name": "Python 3 (ipykernel)",
   "language": "python",
   "name": "python3"
  },
  "language_info": {
   "codemirror_mode": {
    "name": "ipython",
    "version": 3
   },
   "file_extension": ".py",
   "mimetype": "text/x-python",
   "name": "python",
   "nbconvert_exporter": "python",
   "pygments_lexer": "ipython3",
   "version": "3.9.12"
  },
  "vscode": {
   "interpreter": {
    "hash": "31f2aee4e71d21fbe5cf8b01ff0e069b9275f58929596ceb00d14d90e3e16cd6"
   }
  }
 },
 "nbformat": 4,
 "nbformat_minor": 2
}
